{
  "nbformat": 4,
  "nbformat_minor": 0,
  "metadata": {
    "colab": {
      "provenance": [],
      "authorship_tag": "ABX9TyNs1oYMjppMRqeiJLQ+4ryq",
      "include_colab_link": true
    },
    "kernelspec": {
      "name": "python3",
      "display_name": "Python 3"
    },
    "language_info": {
      "name": "python"
    }
  },
  "cells": [
    {
      "cell_type": "markdown",
      "metadata": {
        "id": "view-in-github",
        "colab_type": "text"
      },
      "source": [
        "<a href=\"https://colab.research.google.com/github/velammal88/project1/blob/main/class4_exersise.ipynb\" target=\"_parent\"><img src=\"https://colab.research.google.com/assets/colab-badge.svg\" alt=\"Open In Colab\"/></a>"
      ]
    },
    {
      "cell_type": "code",
      "execution_count": null,
      "metadata": {
        "colab": {
          "base_uri": "https://localhost:8080/"
        },
        "id": "zdIac_1ypW5j",
        "outputId": "db85306d-6574-4d65-f271-66b690f0876e"
      },
      "outputs": [
        {
          "output_type": "stream",
          "name": "stdout",
          "text": [
            "enter a number5\n",
            "enter a number6\n",
            "enter a number9\n",
            "enter a number11\n",
            "enter a number13\n",
            "the average is 8.8\n"
          ]
        }
      ],
      "source": [
        "sum=0\n",
        "c=0\n",
        "while(c<5):\n",
        "  x=int(input(\"enter a number\"))\n",
        "  sum=sum+x\n",
        "  c=c+1\n",
        "average=sum/5\n",
        "print(\"the average is\", average)"
      ]
    },
    {
      "cell_type": "code",
      "source": [
        "num1=int(input(\"Enter of the number:\"))\n",
        "num2=int(input(\"Enter of the number:\"))\n",
        "def find_HCF(x,y):\n",
        "  while(y):\n",
        "    x,y=y,(x % y)\n",
        "  return x\n",
        "print(\"HCF of\",num1,\"and\",num2,\"is\",find_HCF(num1,num2))"
      ],
      "metadata": {
        "colab": {
          "base_uri": "https://localhost:8080/"
        },
        "id": "aivJrIDqliXK",
        "outputId": "eea20718-d63f-4549-ab54-8fe409e1eccf"
      },
      "execution_count": 38,
      "outputs": [
        {
          "output_type": "stream",
          "name": "stdout",
          "text": [
            "Enter of the number:18\n",
            "Enter of the number:24\n",
            "HCF of 18 and 24 is 6\n"
          ]
        }
      ]
    },
    {
      "cell_type": "code",
      "source": [
        "for i in range(1,5):\n",
        "  for j in range(i):\n",
        "    print(i,end=\" \")\n",
        "  print()"
      ],
      "metadata": {
        "id": "hhKry8wS8uKW",
        "colab": {
          "base_uri": "https://localhost:8080/"
        },
        "outputId": "a1cd40af-ad9a-4c6a-f4f5-d9e0abfd9473"
      },
      "execution_count": null,
      "outputs": [
        {
          "output_type": "stream",
          "name": "stdout",
          "text": [
            "1 \n",
            "2 2 \n",
            "3 3 3 \n",
            "4 4 4 4 \n"
          ]
        }
      ]
    },
    {
      "cell_type": "code",
      "source": [
        "for i in range(2,0,-1):\n",
        "  for j in range(i):\n",
        "    print(\"*\",end=\" \")\n",
        "  print()"
      ],
      "metadata": {
        "colab": {
          "base_uri": "https://localhost:8080/"
        },
        "id": "VUNMHVb89Ozf",
        "outputId": "d8297dfa-f7dc-4624-a1ef-33b975711352"
      },
      "execution_count": null,
      "outputs": [
        {
          "output_type": "stream",
          "name": "stdout",
          "text": [
            "* * \n",
            "* \n"
          ]
        }
      ]
    },
    {
      "cell_type": "code",
      "source": [
        "sorted((34,29,5,67),reverse=True)"
      ],
      "metadata": {
        "colab": {
          "base_uri": "https://localhost:8080/"
        },
        "id": "GOAPtfaZ9dv9",
        "outputId": "9d784739-2ffb-4ea7-e1eb-23e610dfc2d2"
      },
      "execution_count": null,
      "outputs": [
        {
          "output_type": "execute_result",
          "data": {
            "text/plain": [
              "[67, 34, 29, 5]"
            ]
          },
          "metadata": {},
          "execution_count": 12
        }
      ]
    },
    {
      "cell_type": "code",
      "source": [
        "user_name=\"velammal\"\n",
        "print(\"hello,\"+ user_name +\"!Welcome to the programme\")\n"
      ],
      "metadata": {
        "colab": {
          "base_uri": "https://localhost:8080/"
        },
        "id": "N9E3TfzVVFlJ",
        "outputId": "10af7333-7c30-446e-df42-7e693b49217e"
      },
      "execution_count": null,
      "outputs": [
        {
          "output_type": "stream",
          "name": "stdout",
          "text": [
            "hello,velammal!Welcome to the programme\n"
          ]
        }
      ]
    },
    {
      "cell_type": "code",
      "source": [
        "len(\"hello\")"
      ],
      "metadata": {
        "colab": {
          "base_uri": "https://localhost:8080/"
        },
        "id": "a8E10vI0sSXA",
        "outputId": "4bc53e4f-d78b-4bb1-d0a1-204a4a987122"
      },
      "execution_count": null,
      "outputs": [
        {
          "output_type": "execute_result",
          "data": {
            "text/plain": [
              "5"
            ]
          },
          "metadata": {},
          "execution_count": 1
        }
      ]
    },
    {
      "cell_type": "code",
      "source": [
        "int(37)\n",
        "\n"
      ],
      "metadata": {
        "colab": {
          "base_uri": "https://localhost:8080/"
        },
        "id": "anQm8n27rvDH",
        "outputId": "559534d6-0313-45a0-efc3-10e6d57315bc"
      },
      "execution_count": null,
      "outputs": [
        {
          "output_type": "execute_result",
          "data": {
            "text/plain": [
              "37"
            ]
          },
          "metadata": {},
          "execution_count": 74
        }
      ]
    },
    {
      "cell_type": "code",
      "source": [
        "x=float(37)\n",
        "print(x)"
      ],
      "metadata": {
        "colab": {
          "base_uri": "https://localhost:8080/"
        },
        "id": "JnHNA6Mysb_P",
        "outputId": "bd38b485-cd3e-4db7-8550-709c16c291e5"
      },
      "execution_count": null,
      "outputs": [
        {
          "output_type": "stream",
          "name": "stdout",
          "text": [
            "37.0\n"
          ]
        }
      ]
    },
    {
      "cell_type": "code",
      "source": [
        "str = \"37\""
      ],
      "metadata": {
        "id": "uhlcIzlHvveE"
      },
      "execution_count": null,
      "outputs": []
    },
    {
      "cell_type": "code",
      "source": [
        "list=[1,2,3,4,5]\n",
        "print(list)\n",
        "\n"
      ],
      "metadata": {
        "colab": {
          "base_uri": "https://localhost:8080/"
        },
        "id": "ytKWuM9M0LeQ",
        "outputId": "41fc9676-850f-436d-a78d-42898e9587cd"
      },
      "execution_count": null,
      "outputs": [
        {
          "output_type": "stream",
          "name": "stdout",
          "text": [
            "[1, 2, 3, 4, 5]\n"
          ]
        }
      ]
    },
    {
      "cell_type": "code",
      "source": [
        "tuple=tuple(x)\n",
        "print(tuple)"
      ],
      "metadata": {
        "colab": {
          "base_uri": "https://localhost:8080/"
        },
        "id": "3UFDYQpX4FYs",
        "outputId": "79996a2e-59fc-4603-cf7b-0ca5d136a4b6"
      },
      "execution_count": null,
      "outputs": [
        {
          "output_type": "stream",
          "name": "stdout",
          "text": [
            "(1, 2, 3, 4, 5)\n"
          ]
        }
      ]
    },
    {
      "cell_type": "code",
      "source": [
        "set=set(x)\n",
        "print(set)"
      ],
      "metadata": {
        "colab": {
          "base_uri": "https://localhost:8080/"
        },
        "id": "PBZlZCDF4XD5",
        "outputId": "dd5cb736-a16a-44a8-b16e-90571ecd7412"
      },
      "execution_count": null,
      "outputs": [
        {
          "output_type": "stream",
          "name": "stdout",
          "text": [
            "{1, 2, 3, 4, 5}\n"
          ]
        }
      ]
    },
    {
      "cell_type": "code",
      "source": [
        "list=[22,33,44,55,66]\n",
        "total=sum(list)\n",
        "print(\"sum of list:\",total)\n"
      ],
      "metadata": {
        "colab": {
          "base_uri": "https://localhost:8080/"
        },
        "id": "Q7m6UBLa6B9c",
        "outputId": "f88d9881-dffc-4baa-89d0-c3b382269aaf"
      },
      "execution_count": null,
      "outputs": [
        {
          "output_type": "stream",
          "name": "stdout",
          "text": [
            "sum of list: 220\n"
          ]
        }
      ]
    },
    {
      "cell_type": "code",
      "source": [
        "abs(-56)\n",
        "\n"
      ],
      "metadata": {
        "colab": {
          "base_uri": "https://localhost:8080/"
        },
        "id": "-pBFdGoG-6fR",
        "outputId": "76ba83f8-7bdf-45fc-daf2-111e38848e5d"
      },
      "execution_count": null,
      "outputs": [
        {
          "output_type": "execute_result",
          "data": {
            "text/plain": [
              "56"
            ]
          },
          "metadata": {},
          "execution_count": 2
        }
      ]
    },
    {
      "cell_type": "code",
      "source": [
        "X=6.345\n",
        "print(round(6.34))"
      ],
      "metadata": {
        "id": "st9b0Ha_aYmB",
        "colab": {
          "base_uri": "https://localhost:8080/"
        },
        "outputId": "ab5ad5da-9d2c-4c63-980d-b4c54d20befb"
      },
      "execution_count": 1,
      "outputs": [
        {
          "output_type": "stream",
          "name": "stdout",
          "text": [
            "6\n"
          ]
        }
      ]
    },
    {
      "cell_type": "code",
      "source": [
        "min(3,6,8,9)"
      ],
      "metadata": {
        "colab": {
          "base_uri": "https://localhost:8080/"
        },
        "id": "ZrQT_PEXb9DO",
        "outputId": "b12950ae-d2f5-4ee8-e530-6c26531db39a"
      },
      "execution_count": 15,
      "outputs": [
        {
          "output_type": "execute_result",
          "data": {
            "text/plain": [
              "3"
            ]
          },
          "metadata": {},
          "execution_count": 15
        }
      ]
    },
    {
      "cell_type": "code",
      "source": [
        "max(3,6,8,9)"
      ],
      "metadata": {
        "colab": {
          "base_uri": "https://localhost:8080/"
        },
        "id": "kreu9g7mjys6",
        "outputId": "1e652a94-978d-41f7-8565-43ddf7dfc669"
      },
      "execution_count": 16,
      "outputs": [
        {
          "output_type": "execute_result",
          "data": {
            "text/plain": [
              "9"
            ]
          },
          "metadata": {},
          "execution_count": 16
        }
      ]
    },
    {
      "cell_type": "code",
      "source": [
        "sorted((50,25,45,5))"
      ],
      "metadata": {
        "colab": {
          "base_uri": "https://localhost:8080/"
        },
        "id": "ckxYkKYjj6DD",
        "outputId": "4265c8bc-0876-407f-fea1-b88c16bf0a15"
      },
      "execution_count": 26,
      "outputs": [
        {
          "output_type": "execute_result",
          "data": {
            "text/plain": [
              "[5, 25, 45, 50]"
            ]
          },
          "metadata": {},
          "execution_count": 26
        }
      ]
    }
  ]
}