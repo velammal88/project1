{
  "nbformat": 4,
  "nbformat_minor": 0,
  "metadata": {
    "colab": {
      "provenance": [],
      "authorship_tag": "ABX9TyMkKZf3LbQIiiYX7KSQk5JS",
      "include_colab_link": true
    },
    "kernelspec": {
      "name": "python3",
      "display_name": "Python 3"
    },
    "language_info": {
      "name": "python"
    }
  },
  "cells": [
    {
      "cell_type": "markdown",
      "metadata": {
        "id": "view-in-github",
        "colab_type": "text"
      },
      "source": [
        "<a href=\"https://colab.research.google.com/github/velammal88/project1/blob/main/CLASS_3.ipynb\" target=\"_parent\"><img src=\"https://colab.research.google.com/assets/colab-badge.svg\" alt=\"Open In Colab\"/></a>"
      ]
    },
    {
      "cell_type": "code",
      "execution_count": null,
      "metadata": {
        "colab": {
          "base_uri": "https://localhost:8080/"
        },
        "id": "2JXkWN9o-Djl",
        "outputId": "a7de41ca-6161-4993-f597-38ba13dd4207"
      },
      "outputs": [
        {
          "output_type": "stream",
          "name": "stdout",
          "text": [
            "Enter a value for x49\n",
            "Enter a value for y72\n",
            "y is greater\n"
          ]
        }
      ],
      "source": [
        "x=int(input(\"Enter a value for x\"))\n",
        "y=int(input(\"Enter a value for y\"))\n",
        "if (x > y):\n",
        "  print(\"x is greater\")\n",
        "else:\n",
        "  print(\"y is greater\")"
      ]
    },
    {
      "cell_type": "code",
      "source": [
        "x=int(input(\"enter a value of x\"))\n",
        "y=int(input(\"enter a value of y\"))\n",
        "z=int(input(\"enter a value of y\"))\n",
        "if (x > y and x>z ):\n",
        "  print(\"x is greater\")\n",
        "elif(y>x and y>z ):\n",
        "  print(\"y is greater\")\n",
        "else:\n",
        "  print(\"z is greater\")\n",
        "\n"
      ],
      "metadata": {
        "colab": {
          "base_uri": "https://localhost:8080/"
        },
        "id": "AgZncZz_Hgnk",
        "outputId": "625b9b0e-f816-4f02-c3cf-e5f9d5d497a8"
      },
      "execution_count": null,
      "outputs": [
        {
          "output_type": "stream",
          "name": "stdout",
          "text": [
            "enter a value of x45\n",
            "enter a value of y23\n",
            "enter a value of y11\n",
            "x is greater\n"
          ]
        }
      ]
    },
    {
      "cell_type": "code",
      "source": [
        "exam_score=int(input(\"enter a exam_score\"))\n",
        "if(exam_score>=70 and exam_score<=100):\n",
        "  print(\"congratulation! you have passed and you are excellent!\")\n",
        "elif(exam_score>=60 and exam_score<=69):\n",
        "  print(\"good you have passed\")\n",
        "else:\n",
        "  print(\"you are fail.work hard\")"
      ],
      "metadata": {
        "colab": {
          "base_uri": "https://localhost:8080/"
        },
        "id": "oeLky21iK1MC",
        "outputId": "38f2fba3-3b71-42b4-9b2f-e37bb4519b57"
      },
      "execution_count": null,
      "outputs": [
        {
          "output_type": "stream",
          "name": "stdout",
          "text": [
            "enter a exam_score89\n",
            "congratulation! you have passed and you are excellent!\n"
          ]
        }
      ]
    },
    {
      "cell_type": "code",
      "source": [
        "x=8\n",
        "if(x%3):\n",
        "  print(\"x is even \")\n",
        "else:\n",
        "  print(\"x is odd \")"
      ],
      "metadata": {
        "colab": {
          "base_uri": "https://localhost:8080/"
        },
        "id": "ReAbt3h0T3RZ",
        "outputId": "d4d9c1fe-6f7b-4575-ff16-ab38b03d2a81"
      },
      "execution_count": null,
      "outputs": [
        {
          "output_type": "stream",
          "name": "stdout",
          "text": [
            "x is even \n"
          ]
        }
      ]
    },
    {
      "cell_type": "code",
      "source": [
        "x=2021\n",
        "if(2021%4):\n",
        "  print(\"x is leap year\")\n",
        "else:\n",
        "  print(\"x is not a leap year\")"
      ],
      "metadata": {
        "colab": {
          "base_uri": "https://localhost:8080/"
        },
        "id": "zPeWBrUuV8AT",
        "outputId": "ea737493-67b0-45b5-dc42-83f9309b445b"
      },
      "execution_count": null,
      "outputs": [
        {
          "output_type": "stream",
          "name": "stdout",
          "text": [
            "x is leap year\n"
          ]
        }
      ]
    },
    {
      "cell_type": "code",
      "source": [
        "x=int(8)\n",
        "if(X>0):\n",
        "  print(\"x is positive\")\n",
        "elif(X<0):\n",
        "  print(\"x is  negative\")\n",
        "else:\n",
        "  print(\"x is zero\")"
      ],
      "metadata": {
        "colab": {
          "base_uri": "https://localhost:8080/"
        },
        "id": "wIJA8vKCWvX-",
        "outputId": "30c40340-3359-4eda-e12a-ce1a1a9ba93c"
      },
      "execution_count": null,
      "outputs": [
        {
          "output_type": "stream",
          "name": "stdout",
          "text": [
            "x is positive\n"
          ]
        }
      ]
    },
    {
      "cell_type": "code",
      "source": [
        "x=int(-2)\n",
        "if(x>0):\n",
        "  print(\"x is cold\")\n",
        "elif(x>0):\n",
        "  print(\"x is warm\")\n",
        "else:\n",
        "    print(\"x is freezing\")"
      ],
      "metadata": {
        "colab": {
          "base_uri": "https://localhost:8080/"
        },
        "id": "GKC601VOEh_0",
        "outputId": "8ba0fc05-850f-4ad8-ef98-d2265a563234"
      },
      "execution_count": null,
      "outputs": [
        {
          "output_type": "stream",
          "name": "stdout",
          "text": [
            "x is freezing\n"
          ]
        }
      ]
    },
    {
      "cell_type": "code",
      "source": [
        "o=int(input(\"enter the student grade A\"))\n",
        "p=int(input(\"enter the student grade B\"))\n",
        "q=int(input(\"enter the student grade C\"))\n",
        "r=int(input(\"enter the student grade D\"))\n",
        "s=int(input(\"enter the student grade E\"))\n",
        "if(o>=100):\n",
        "  print(\"excellent\")\n",
        "elif (p>=90):\n",
        "  print(\"good\")\n",
        "elif (q>=80):\n",
        "  print(\"satisfactory\")\n",
        "elif (r>=70):\n",
        "  print(\"needs improvement\")\n",
        "else :\n",
        "  print(\"fail\")"
      ],
      "metadata": {
        "id": "AhGdCu7FG3sM",
        "colab": {
          "base_uri": "https://localhost:8080/"
        },
        "outputId": "16e6787c-edae-4d9d-83a9-b42f1080f09c"
      },
      "execution_count": null,
      "outputs": [
        {
          "output_type": "stream",
          "name": "stdout",
          "text": [
            "enter the student grade A100\n",
            "enter the student grade B90\n",
            "enter the student grade C80\n",
            "enter the student grade D70\n",
            "enter the student grade E60\n",
            "excellent\n"
          ]
        }
      ]
    },
    {
      "cell_type": "code",
      "source": [
        "n=5\n",
        "for n in range(1, 6):\n",
        "  print(n)\n"
      ],
      "metadata": {
        "colab": {
          "base_uri": "https://localhost:8080/"
        },
        "id": "x-7dOXX_toYa",
        "outputId": "e3e96a90-655e-4fc1-98ee-fbe5d501cdfe"
      },
      "execution_count": null,
      "outputs": [
        {
          "output_type": "stream",
          "name": "stdout",
          "text": [
            "1\n",
            "2\n",
            "3\n",
            "4\n",
            "5\n"
          ]
        }
      ]
    },
    {
      "cell_type": "code",
      "source": [
        "for i in range(5,6):\n",
        "  for j in range(1,6):\n",
        "    print(j,\"*\",i,\"=\",i*j)\n",
        "\n"
      ],
      "metadata": {
        "colab": {
          "base_uri": "https://localhost:8080/"
        },
        "id": "f9EscDHduldD",
        "outputId": "44282784-9cab-4d95-ae9e-db3c615b6a7b"
      },
      "execution_count": null,
      "outputs": [
        {
          "output_type": "stream",
          "name": "stdout",
          "text": [
            "1 * 5 = 5\n",
            "2 * 5 = 10\n",
            "3 * 5 = 15\n",
            "4 * 5 = 20\n",
            "5 * 5 = 25\n"
          ]
        }
      ]
    },
    {
      "cell_type": "code",
      "source": [
        "n=int(input(\"enter a number\"))\n",
        "result=1\n",
        "for i in range(n,0,-1):\n",
        "    result=result*i\n",
        "print(\"factorial of \", n ,\"is\",result)\n",
        "\n"
      ],
      "metadata": {
        "colab": {
          "base_uri": "https://localhost:8080/"
        },
        "id": "-Kf_s4LHWyxs",
        "outputId": "e2d1a8f2-53c1-4120-9914-3ccf2348b096"
      },
      "execution_count": null,
      "outputs": [
        {
          "output_type": "stream",
          "name": "stdout",
          "text": [
            "enter a number5\n",
            "factorial of  5 is 120\n"
          ]
        }
      ]
    }
  ]
}